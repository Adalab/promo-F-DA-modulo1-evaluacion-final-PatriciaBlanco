{
 "cells": [
  {
   "cell_type": "code",
   "execution_count": 591,
   "metadata": {},
   "outputs": [],
   "source": [
    "class TiendaOline:\n",
    "    def __init__(self,inventario,clientes,ventas_totales):\n",
    "        self.inventario = []            # inventario=[{nombre,precio,cantidad}]\n",
    "        self.clientes = {}              # clientes={nombre:{email,compras[]}}\n",
    "        self.ventas_totales = 0.0        \n",
    "\n",
    "#1 \n",
    "    def agregar_producto(self,nombre,precio,cantidad):\n",
    "        for producto in self.inventario:                                                    # comprobamos si el producto está en el inventario\n",
    "            if producto['nombre'] == nombre:\n",
    "                print(f'El producto {nombre} ya existe en el inventario')\n",
    "                \n",
    "        else:                                                                               # si no está, lo añadimos con append\n",
    "            producto_añadir = {'nombre': nombre, 'precio':precio, 'cantidad':cantidad}\n",
    "            self.inventario.append(producto_añadir)\n",
    "            print(f'El producto {nombre} ha sido añadido al inventario')\n",
    "            return self.inventario\n",
    "\n",
    "#2    \n",
    "    def ver_inventario(self):                       \n",
    "        for producto in self.inventario:                                                    # creamos variables con los distintos parámetros para que aparezcan en el formato requerido\n",
    "            nombre_inv = producto ['nombre']        \n",
    "            precio_inv = producto ['precio']\n",
    "            cantidad_inv = producto ['cantidad']\n",
    "            print(f'Nombre: {nombre_inv}, Precio: €{precio_inv}, Cantidad: {cantidad_inv}')\n",
    "           \n",
    "            \n",
    "#3\n",
    "    def buscar_producto(self, nombre):                                                      # buscamos el producto con bucle for para mostrar sus datos\n",
    "        for producto in self.inventario:\n",
    "            if producto['nombre'] == nombre:\n",
    "                print('Nombre:',producto['nombre'],', Precio: € ',producto['precio'],', Cantidad:',producto['cantidad'])\n",
    "                return\n",
    "        else:\n",
    "            print(f'Lo sentimos, el producto {nombre} no está disponible')  \n",
    "\n",
    "#4 \n",
    "    def actualizar_stock(self, nombre, cantidad_añadir, cantidad_retirar):   \n",
    "        for producto in self.inventario:                                                    # comprobamos si el producto está en el inventario\n",
    "            if producto['nombre'] == nombre:\n",
    "                if cantidad_retirar > 0:                                                    # si hay unidades, procedemos a retirar\n",
    "                    if producto['cantidad'] >= cantidad_retirar:\n",
    "                        producto['cantidad'] -= cantidad_retirar       \n",
    "                        print(f'El stock del producto {nombre} ha sido actualizado')\n",
    "                    else:\n",
    "                        print(f'Lo sentimos, no hay suficiente stock disponible')           # respuesta si no hay suficiente stock\n",
    "                elif cantidad_añadir > 0:\n",
    "                    producto['cantidad'] += cantidad_añadir                                 # sumamos la cantidad a añadir al stock\n",
    "                    print(f'El stock del producto {nombre} ha sido actualizado')        \n",
    "                else:\n",
    "                    print('La cantidad a añadir o retirar debe ser mayor que 0.')\n",
    "                return self.inventario\n",
    "        print(f'el producto {nombre} no está en el inventario')                             # respuesta si no existe el producto\n",
    "        \n",
    "#5\n",
    "    def eliminar_producto(self, nombre):                         \n",
    "        for indice,producto in enumerate (self.inventario):                                 # con enumerate averiguamos el índice de cada producto  \n",
    "            if producto['nombre'] == nombre:                                                # buscamos el producto en la lista\n",
    "                self.inventario.pop(indice)                                                 # lo eliminamos de la lista usando su índice\n",
    "                print(f'El producto {nombre} ha sido eliminado')\n",
    "                return self.inventario\n",
    "        print(f'El producto {nombre} no está en el inventario')                             # respuesta si no existe el producto\n",
    "        \n",
    "\n",
    "#6\n",
    "    def calcular_valor_inventario(self):                        \n",
    "        total_valor = 0                                                                     # creamos una variable vacía donde ir sumando los importes de cada producto\n",
    "        for producto in self.inventario:                                                    # recorremos todos los productos de la lista\n",
    "            cantidad_valor = producto ['cantidad']                                          # asignamos una variable a cada valor para poder hacer el cálculo\n",
    "            precio_valor = producto['precio']\n",
    "            total_producto = cantidad_valor*precio_valor\n",
    "            total_valor += total_producto\n",
    "        print (f'El valor total del inventario es de {total_valor}€')\n",
    "        return total_valor\n",
    "    \n",
    "#7  \n",
    "    def buscar_producto_regex(self, patron):\n",
    "        import re                                                                           # importamos librería\n",
    "        resultado_busqueda = []                                                             # creamos lista vacía para almacenar resultado\n",
    "        for producto in self.inventario:                                                    # recorremos todos los productos de la lista\n",
    "            nombre = producto['nombre']                                                     # definimos 'nombre' para poder buscar en esos valores \n",
    "            if re.search(patron,nombre):                                                    # buscamos con el patrón introducido y las coincidencias las añadimos a una lista\n",
    "                resultado_busqueda.append(producto)\n",
    "        return resultado_busqueda\n",
    "              \n",
    "\n",
    "#8 FALTA NO PRODUCTO\n",
    "    def realizar_compra(self):\n",
    "        comprar = input('¿Quieres realizar una compra? S/N').lower()\n",
    "        carrito = []                                       \n",
    "        total_compra = 0.0\n",
    "\n",
    "        while comprar == 's':\n",
    "            print('Estos son los artículos disponibles:')                           # imprimimos los artículos disponibles \n",
    "            self.ver_inventario()\n",
    "            producto_compra = input('Introduce el producto que quieres comprar: ').lower()\n",
    "            cantidad_compra = int(input('Introduce el número de artículos que quieres comprar: '))\n",
    "\n",
    "            for producto in self.inventario:                                        \n",
    "                if producto['nombre'] == producto_compra:                                           # comprobamos que el producto existe\n",
    "                    if producto['cantidad'] >= cantidad_compra:                                     # comprobamos que hay stock\n",
    "                        carrito.append({'producto':producto_compra,'cantidad':cantidad_compra})     # lo añadimos al carrito\n",
    "                        total_compra += cantidad_compra * producto['precio']                        # sumamos el importe de este artículo al importe total\n",
    "                        producto['cantidad'] -= cantidad_compra                                     # resta la cantidad de artículos comprados del inventario\n",
    "                    else:\n",
    "                        print('No disponemos de suficiente stock de ese artículo')                                                                             \n",
    "            \n",
    "            comprar = input(f'En tu carrito de la compra has añadido {carrito} ¿Quieres seguir comprando? S/N: ').lower()\n",
    "        print(f'El importe total de la compra es {total_compra}€')   \n",
    "        return self.inventario  \n",
    "\n",
    "\n",
    "#9 \n",
    "    def procesar_pago(self):\n",
    "        try:\n",
    "            cantidad_total = float(input('¡Bienvenido a la plataforma de pago! Para validar el pago de tu compra, introduce el importe total de la misma: '))\n",
    "            cantidad_pago = float(input('Ahora introduce la cantidad que vas a abonar: '))          # hacemos los input para el usuario\n",
    "            cambio = cantidad_pago - cantidad_total                                                 \n",
    "            if cambio >= 0:                                                                         # si el pago es válido (>=0) damos respuesa   \n",
    "                print(f'Operación realizada con éxito. El importe restante a tu favor es de {cambio}€')\n",
    "            else:                                                                                   # respuesta si no tiene suficiente dinero para el pago\n",
    "                print('¡Ups! No tienes saldo suficiente. La compra no se puede completar')\n",
    "        except ValueError:\n",
    "            print('Error. Ingresa un valor numérico válido')                                        # respuesta si no ingresa un valor válido\n",
    "\n",
    "#10\n",
    "    def agregar_cliente(self, nombre, email, compras=[]):                                           \n",
    "        if nombre not in self.clientes:                                                             # si no es ya cliente, añadimos los datos a self.clientes\n",
    "            self.clientes[nombre] = {'email': email, 'compras': compras}\n",
    "            print(f\"Cliente '{nombre}' agregado con éxito.\")\n",
    "            return self.clientes\n",
    "        else:\n",
    "            print(f\"El cliente {nombre} ya existe en la base de datos.\")                            # respuesta si el cliente ya existía\n",
    "\n",
    "\n",
    "#11\n",
    "    def ver_clientes(self):                                                                         \n",
    "        for clave,valor in self.clientes.items():                                                   # accedemos a las claves-valor del diccionario para imprimir los datos\n",
    "            print(f'Nombre: {clave}, Email: {valor[\"email\"]}, Compras: {valor[\"compras\"]} ') \n",
    "            \n",
    "\n",
    "#12  SIN TERMINAR                                                                                   # clientes = {nombre:{email,compras[]}}\n",
    "    def registrar_compra(self, nombre_cliente, carrito):                                            # carrito = {'articulo':{'precio':20,'cantidad':3}}\n",
    "        if nombre_cliente in self.clientes:                                                         # comprobamos que el cliente está en la base de datos\n",
    "            total_carrito = 0                                                                       # creamos un total para sumar los importes del carrito\n",
    "            for articulo,valores in carrito.items():                        \n",
    "                total_carrito += valores['precio'] * valores['cantidad']   \n",
    "        if nombre_cliente in self.clientes:                                                         # añadimos el carrito al historial de compras del cliente                                       \n",
    "            self.clientes[nombre_cliente]['compras'].append({'productos':carrito,'total':total_carrito})        \n",
    "        else:                                                                                       # respuesta si el cliente no está registrado\n",
    "            print(f'El cliente {nombre_cliente} no está registrado')\n",
    "                                                                                                    # respuesta confirmando el registro\n",
    "        print(f'La compra ha sido registrada.\\n Cliente: {nombre_cliente}\\n Compra: {carrito}\\n Importe total: {total_carrito}')\n",
    "        self.ventas_totales += total_carrito                                                        # sumamos esta venta a las ventas totales de la tienda\n",
    "        return self.clientes, self.ventas_totales\n",
    "\n",
    "#13 \n",
    "    def ver_compras_cliente(self, nombre_cliente):  \n",
    "        if nombre_cliente in self.clientes:                                                         # comprobamos que es nuestro cliente\n",
    "            compras_cliente = self.clientes[nombre_cliente]['compras']                              # accedemos a su historial de compra e imprimimos los datos\n",
    "            print(f'Las compras realizadas por el cliente {nombre_cliente} son:\\n {compras_cliente}')\n",
    "\n",
    "#14 \n",
    "    def calcular_ventas_totales(self):\n",
    "        print(f'El total de las ventas realizadas es de {self.ventas_totales:.2f} €')               # imprimimos el total de las ventas realizadas en la tienda\n",
    "\n"
   ]
  },
  {
   "cell_type": "markdown",
   "metadata": {},
   "source": [
    "### COMPROBACIONES"
   ]
  },
  {
   "cell_type": "code",
   "execution_count": 592,
   "metadata": {},
   "outputs": [],
   "source": [
    "mi_tienda = TiendaOline([],{},0)"
   ]
  },
  {
   "cell_type": "code",
   "execution_count": 579,
   "metadata": {},
   "outputs": [
    {
     "name": "stdout",
     "output_type": "stream",
     "text": [
      "El producto camisa ha sido añadido al inventario\n",
      "El producto vestido ha sido añadido al inventario\n",
      "El producto chaqueta ha sido añadido al inventario\n",
      "El producto camiseta ha sido añadido al inventario\n"
     ]
    },
    {
     "data": {
      "text/plain": [
       "[{'nombre': 'camisa', 'precio': 20, 'cantidad': 50},\n",
       " {'nombre': 'vestido', 'precio': 45, 'cantidad': 20},\n",
       " {'nombre': 'chaqueta', 'precio': 30, 'cantidad': 40},\n",
       " {'nombre': 'camiseta', 'precio': 19, 'cantidad': 60}]"
      ]
     },
     "execution_count": 579,
     "metadata": {},
     "output_type": "execute_result"
    }
   ],
   "source": [
    "#1\n",
    "mi_tienda.agregar_producto('camisa',20,50)\n",
    "mi_tienda.agregar_producto('vestido',45,20)\n",
    "mi_tienda.agregar_producto('chaqueta',30,40)\n",
    "mi_tienda.agregar_producto('camiseta',19,60)"
   ]
  },
  {
   "cell_type": "code",
   "execution_count": 580,
   "metadata": {},
   "outputs": [
    {
     "name": "stdout",
     "output_type": "stream",
     "text": [
      "Nombre: camisa, Precio: €20, Cantidad: 50\n",
      "Nombre: vestido, Precio: €45, Cantidad: 20\n",
      "Nombre: chaqueta, Precio: €30, Cantidad: 40\n",
      "Nombre: camiseta, Precio: €19, Cantidad: 60\n"
     ]
    }
   ],
   "source": [
    "#2\n",
    "mi_tienda.ver_inventario()"
   ]
  },
  {
   "cell_type": "code",
   "execution_count": 581,
   "metadata": {},
   "outputs": [
    {
     "name": "stdout",
     "output_type": "stream",
     "text": [
      "Nombre: camisa , Precio: €  20 , Cantidad: 50\n"
     ]
    }
   ],
   "source": [
    "#3\n",
    "mi_tienda.buscar_producto('camisa')\n"
   ]
  },
  {
   "cell_type": "code",
   "execution_count": 582,
   "metadata": {},
   "outputs": [
    {
     "name": "stdout",
     "output_type": "stream",
     "text": [
      "el producto pantalon no está en el inventario\n"
     ]
    }
   ],
   "source": [
    "#4\n",
    "mi_tienda.actualizar_stock('pantalon',5,0)"
   ]
  },
  {
   "cell_type": "code",
   "execution_count": 583,
   "metadata": {},
   "outputs": [
    {
     "name": "stdout",
     "output_type": "stream",
     "text": [
      "El producto camiseta ha sido eliminado\n"
     ]
    },
    {
     "data": {
      "text/plain": [
       "[{'nombre': 'camisa', 'precio': 20, 'cantidad': 50},\n",
       " {'nombre': 'vestido', 'precio': 45, 'cantidad': 20},\n",
       " {'nombre': 'chaqueta', 'precio': 30, 'cantidad': 40}]"
      ]
     },
     "execution_count": 583,
     "metadata": {},
     "output_type": "execute_result"
    }
   ],
   "source": [
    "#5\n",
    "mi_tienda.eliminar_producto('camiseta')"
   ]
  },
  {
   "cell_type": "code",
   "execution_count": 584,
   "metadata": {},
   "outputs": [
    {
     "name": "stdout",
     "output_type": "stream",
     "text": [
      "El valor total del inventario es de 3100€\n"
     ]
    },
    {
     "data": {
      "text/plain": [
       "3100"
      ]
     },
     "execution_count": 584,
     "metadata": {},
     "output_type": "execute_result"
    }
   ],
   "source": [
    "#6\n",
    "mi_tienda.calcular_valor_inventario()"
   ]
  },
  {
   "cell_type": "code",
   "execution_count": 585,
   "metadata": {},
   "outputs": [
    {
     "data": {
      "text/plain": [
       "[{'nombre': 'camisa', 'precio': 20, 'cantidad': 50}]"
      ]
     },
     "execution_count": 585,
     "metadata": {},
     "output_type": "execute_result"
    }
   ],
   "source": [
    "#7\n",
    "mi_tienda.buscar_producto_regex('^cam')"
   ]
  },
  {
   "cell_type": "code",
   "execution_count": 366,
   "metadata": {},
   "outputs": [
    {
     "name": "stdout",
     "output_type": "stream",
     "text": [
      "Estos son los artículos disponibles:\n",
      "Nombre: camisa, Precio: €20, Cantidad: 50\n",
      "Nombre: vestido, Precio: €45, Cantidad: 20\n",
      "Nombre: camiseta, Precio: €19, Cantidad: 60\n",
      "Estos son los artículos disponibles:\n",
      "Nombre: camisa, Precio: €20, Cantidad: 45\n",
      "Nombre: vestido, Precio: €45, Cantidad: 20\n",
      "Nombre: camiseta, Precio: €19, Cantidad: 60\n",
      "Estos son los artículos disponibles:\n",
      "Nombre: camisa, Precio: €20, Cantidad: 45\n",
      "Nombre: vestido, Precio: €45, Cantidad: 20\n",
      "Nombre: camiseta, Precio: €19, Cantidad: 55\n",
      "No disponemos de suficiente stock de ese artículo\n",
      "Estos son los artículos disponibles:\n",
      "Nombre: camisa, Precio: €20, Cantidad: 45\n",
      "Nombre: vestido, Precio: €45, Cantidad: 20\n",
      "Nombre: camiseta, Precio: €19, Cantidad: 55\n",
      "El importe total de la compra es 195.0€\n"
     ]
    },
    {
     "data": {
      "text/plain": [
       "[{'nombre': 'camisa', 'precio': 20, 'cantidad': 45},\n",
       " {'nombre': 'vestido', 'precio': 45, 'cantidad': 20},\n",
       " {'nombre': 'camiseta', 'precio': 19, 'cantidad': 55}]"
      ]
     },
     "execution_count": 366,
     "metadata": {},
     "output_type": "execute_result"
    }
   ],
   "source": [
    "#8\n",
    "mi_tienda.realizar_compra()"
   ]
  },
  {
   "cell_type": "code",
   "execution_count": 454,
   "metadata": {},
   "outputs": [
    {
     "name": "stdout",
     "output_type": "stream",
     "text": [
      "Operación realizada con éxito. El importe restante a tu favor es de 0.0€\n"
     ]
    }
   ],
   "source": [
    "#9\n",
    "mi_tienda.procesar_pago()"
   ]
  },
  {
   "cell_type": "code",
   "execution_count": 586,
   "metadata": {},
   "outputs": [
    {
     "name": "stdout",
     "output_type": "stream",
     "text": [
      "Cliente 'Paula García' agregado con éxito.\n",
      "Cliente 'Manuel Pinto' agregado con éxito.\n",
      "Cliente 'Eva Ponce' agregado con éxito.\n",
      "Cliente 'Juan Ortiz' agregado con éxito.\n"
     ]
    },
    {
     "data": {
      "text/plain": [
       "{'Paula García': {'email': 'paulagarcia@prueba.com', 'compras': []},\n",
       " 'Manuel Pinto': {'email': 'manuelpinto@prueba.com', 'compras': []},\n",
       " 'Eva Ponce': {'email': 'evaponce@prueba.com', 'compras': []},\n",
       " 'Juan Ortiz': {'email': 'juanortiz@prueba.com', 'compras': []}}"
      ]
     },
     "execution_count": 586,
     "metadata": {},
     "output_type": "execute_result"
    }
   ],
   "source": [
    "#10\n",
    "mi_tienda.agregar_cliente ('Paula García','paulagarcia@prueba.com')\n",
    "mi_tienda.agregar_cliente ('Manuel Pinto','manuelpinto@prueba.com')\n",
    "mi_tienda.agregar_cliente ('Eva Ponce','evaponce@prueba.com')\n",
    "mi_tienda.agregar_cliente ('Juan Ortiz','juanortiz@prueba.com')"
   ]
  },
  {
   "cell_type": "code",
   "execution_count": 587,
   "metadata": {},
   "outputs": [
    {
     "name": "stdout",
     "output_type": "stream",
     "text": [
      "Nombre: Paula García, Email: paulagarcia@prueba.com, Compras: [] \n",
      "Nombre: Manuel Pinto, Email: manuelpinto@prueba.com, Compras: [] \n",
      "Nombre: Eva Ponce, Email: evaponce@prueba.com, Compras: [] \n",
      "Nombre: Juan Ortiz, Email: juanortiz@prueba.com, Compras: [] \n"
     ]
    }
   ],
   "source": [
    "#11\n",
    "mi_tienda.ver_clientes()\n"
   ]
  },
  {
   "cell_type": "code",
   "execution_count": 588,
   "metadata": {},
   "outputs": [
    {
     "name": "stdout",
     "output_type": "stream",
     "text": [
      "La compra ha sido registrada.\n",
      " Cliente: Paula García\n",
      " Compra: {'camisa': {'precio': 20, 'cantidad': 3}, 'vestido': {'precio': 45, 'cantidad': 3}}\n",
      " Importe total: 195\n"
     ]
    },
    {
     "data": {
      "text/plain": [
       "({'Paula García': {'email': 'paulagarcia@prueba.com',\n",
       "   'compras': [{'productos': {'camisa': {'precio': 20, 'cantidad': 3},\n",
       "      'vestido': {'precio': 45, 'cantidad': 3}},\n",
       "     'total': 195}]},\n",
       "  'Manuel Pinto': {'email': 'manuelpinto@prueba.com',\n",
       "   'compras': [{'productos': {'camisa': {'precio': 20, 'cantidad': 3},\n",
       "      'vestido': {'precio': 45, 'cantidad': 3}},\n",
       "     'total': 195}]},\n",
       "  'Eva Ponce': {'email': 'evaponce@prueba.com',\n",
       "   'compras': [{'productos': {'camisa': {'precio': 20, 'cantidad': 3},\n",
       "      'vestido': {'precio': 45, 'cantidad': 3}},\n",
       "     'total': 195}]},\n",
       "  'Juan Ortiz': {'email': 'juanortiz@prueba.com',\n",
       "   'compras': [{'productos': {'camisa': {'precio': 20, 'cantidad': 3},\n",
       "      'vestido': {'precio': 45, 'cantidad': 3}},\n",
       "     'total': 195}]}},\n",
       " 195.0)"
      ]
     },
     "execution_count": 588,
     "metadata": {},
     "output_type": "execute_result"
    }
   ],
   "source": [
    "# 12\n",
    "mi_tienda.registrar_compra('Paula García',{'camisa':{'precio':20, 'cantidad':3},'vestido':{'precio':45,'cantidad':3}})"
   ]
  },
  {
   "cell_type": "code",
   "execution_count": 589,
   "metadata": {},
   "outputs": [
    {
     "name": "stdout",
     "output_type": "stream",
     "text": [
      "Las compras realizadas por el cliente Paula García son:\n",
      " [{'productos': {'camisa': {'precio': 20, 'cantidad': 3}, 'vestido': {'precio': 45, 'cantidad': 3}}, 'total': 195}]\n"
     ]
    }
   ],
   "source": [
    "#13\n",
    "mi_tienda.ver_compras_cliente('Paula García')"
   ]
  },
  {
   "cell_type": "code",
   "execution_count": 593,
   "metadata": {},
   "outputs": [
    {
     "name": "stdout",
     "output_type": "stream",
     "text": [
      "El total de las ventas realizadas es de 0.00 €\n"
     ]
    }
   ],
   "source": [
    "#14\n",
    "mi_tienda.calcular_ventas_totales()"
   ]
  }
 ],
 "metadata": {
  "kernelspec": {
   "display_name": "base",
   "language": "python",
   "name": "python3"
  },
  "language_info": {
   "codemirror_mode": {
    "name": "ipython",
    "version": 3
   },
   "file_extension": ".py",
   "mimetype": "text/x-python",
   "name": "python",
   "nbconvert_exporter": "python",
   "pygments_lexer": "ipython3",
   "version": "3.9.7"
  }
 },
 "nbformat": 4,
 "nbformat_minor": 2
}
